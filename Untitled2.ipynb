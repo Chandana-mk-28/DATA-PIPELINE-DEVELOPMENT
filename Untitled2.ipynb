!pip install pandas
!pip install scikit-learn
import pandas as pd
import sklearn
from sklearn.preprocessing import StandardScaler
from sklearn.preprocessing import OneHotEncoder
from sklearn.compose import ColumnTransformer
from sklearn.pipeline import Pipeline
from sklearn.impute import SimpleImputer
#Sample DataFrame
data={
    'Name':['Alice','Bob','Charlie',None],
    'Age' :[25,None,30,22],
    'Gender':['Female','Male',None,'Female'],
    'Salary':[50000, 60000, 70000,None]
              }
df=pd.DataFrame(data)
#Defining preprocessing steps
numeric_features=['Age','Salary']
categorical_features=['Gender']
numeric_transformer=Pipeline(steps=[('imputer',SimpleImputer(strategy='mean')),
                                    ('scaler',StandardScaler())
                                   ])
categorical_transformer=Pipeline(steps=[('imputer',SimpleImputer(strategy='most_frequent')),
                                        ('onehot',OneHotEncoder(handle_unknown='ignore'))
                                   ])
#combining transformer
preprocessor=ColumnTransformer(transformers=[('num',numeric_transformer,numeric_features),
                                             ('cat',categorical_transformer,categorical_features)
                                            ])
#applying the pipline to preprocess
pipeline=Pipeline(steps=[('preprocessor',preprocessor)])
#to transform the data
df_processed=preprocessor.fit_transform(df)
#Get the column names to transform the data
num_columns=numeric_features
cat_columns=preprocessor.transformers_[1][1].named_steps['onehot'].get_feature_names_out(categorical_features)
#creating a new DataFrame with proper column names
df_final=pd.DataFrame(df_processed,columns=list(num_columns)+list(cat_columns))
print(df_final)
